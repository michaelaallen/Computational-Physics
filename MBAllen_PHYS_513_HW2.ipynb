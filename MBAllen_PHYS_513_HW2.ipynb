{
 "cells": [
  {
   "cell_type": "markdown",
   "metadata": {},
   "source": [
    "## Michaela Allen $-$ PHYS 513: Homework 2\n",
    "\n",
    "1. Newman 5.3: Consider the integral: $$ E(x) = \\int_{0}^{x} e^{-t^2} dt$$ <br>\n",
    "<br>\n",
    "$a)$ Write a program to calculate $E(x)$ for values of $x$ from $0$ to $3$ in steps of $0.1$. Choose for yourself what method you will use for performing the integral and a suitable number of slices. <br>\n",
    "<br>\n",
    "$b)$ When you are convinced your program is working, extend it further to make a graph of $E(x)$ as a function of $x$. If you want to remind yourself of how to make a graph, you should consult Section 3.1, starting on page 88. <br>\n",
    "<br>\n",
    "Note that there is no known way to perform this particular integral analytically, so numerical approaches are the only way forward."
   ]
  },
  {
   "cell_type": "code",
   "execution_count": 3,
   "metadata": {},
   "outputs": [
    {
     "data": {
      "image/png": "[encoded data removed]",
      "text/plain": [
       "<Figure size 432x288 with 1 Axes>"
      ]
     },
     "metadata": {
      "needs_background": "light"
     },
     "output_type": "display_data"
    }
   ],
   "source": [
    "# 1: Newman 5.3 --- Calculating and plotting E(x) using the trapezoidal rule\n",
    "\n",
    "# necessary imports:\n",
    "\n",
    "import numpy as np\n",
    "import matplotlib.pyplot as plt\n",
    "\n",
    "# define function that is the integrand:\n",
    "\n",
    "def f(t):\n",
    "    return np.exp(-t**2)\n",
    "\n",
    "# define our range of x values:\n",
    "\n",
    "x = np.arange(0, 3, 0.1)\n",
    "\n",
    "# define function to calculate E(x) values:\n",
    "\n",
    "def E(x):\n",
    "    N = 10000 # number of slices\n",
    "    a = 0.0\n",
    "    b = x\n",
    "    h = (b-a) / N # slice width\n",
    "\n",
    "    s = (0.5 * f(a)) + (0.5 * f(b))\n",
    "\n",
    "    for i in range(1, N):\n",
    "        s += f(a + i * h)\n",
    "\n",
    "    return s*h # values of E(x)\n",
    "\n",
    "# plot x vs E(x):\n",
    "\n",
    "plt.plot(x, E(x), '-', color='magenta')\n",
    "plt.title('$E(x)$ vs. $x$')\n",
    "plt.xlabel('$x$')\n",
    "plt.ylabel('$E(x)$')\n",
    "plt.grid()\n",
    "plt.show()"
   ]
  },
  {
   "cell_type": "markdown",
   "metadata": {},
   "source": [
    "---"
   ]
  },
  {
   "cell_type": "markdown",
   "metadata": {},
   "source": [
    "2. Nemman 5.5: Error on Simpson's Rule $-$ Derivation, on paper!"
   ]
  },
  {
   "cell_type": "markdown",
   "metadata": {},
   "source": [
    "---"
   ]
  },
  {
   "cell_type": "markdown",
   "metadata": {},
   "source": [
    "3. Newman 5.6: Write a program, or modify an earlier one, to once more calculate the value of the integral $\\int_{0}^{2} (x^4 - 2x + 1) dx$ from Example 5.1, using the trapezoidal rule with 20 slices, but this time have the program also print an estimate of the error on the result, calculated using the method of Eq. (5.28). To do this you will need to evaluate the integral twice, once with $N_1 = 10$ slices and then again with $N_2 = 20$ slices. Then Eq. (5.28) gives the error. How does the error calculated in this manner compare with a direct computation of the error as the difference between your values for the integral and the true value of 4.4? Why do the two not agree perfectly?"
   ]
  },
  {
   "cell_type": "code",
   "execution_count": 4,
   "metadata": {},
   "outputs": [
    {
     "name": "stdout",
     "output_type": "stream",
     "text": [
      "Value of integral after N = 10 slices = 4.50656\n",
      "Value of integral after N = 20 slices = 4.426660000000001\n",
      "Estimate of the error = 0.026633333333333137\n",
      "I1 - I2 = 0.07989999999999942\n",
      "4.400026666666668 4.3467600000000015\n"
     ]
    }
   ],
   "source": [
    "# 3: Newman 5.6 --- Calculate value of integral using the trapezoidal rule and print estimate of error\n",
    "\n",
    "# necessary imports:\n",
    "\n",
    "import numpy as np\n",
    "\n",
    "# define function that is the integrand:\n",
    "\n",
    "def f(x):\n",
    "    return x**4 - 2*x + 1\n",
    "\n",
    "# define variables and calculate value of integral for N = 10 slices:\n",
    "\n",
    "N1 = 10 # number of slices for first iteration\n",
    "a = 0.0\n",
    "b = 2.0\n",
    "h = (b-a) / N1 # width of slices\n",
    "\n",
    "s = 0.5*f(a) + 0.5*f(b)\n",
    "\n",
    "for i in range(1, N1):\n",
    "    s += f(a + i * h)\n",
    "\n",
    "I1 = s*h # value of integral for N = 10 slices\n",
    "\n",
    "print('Value of integral after N = 10 slices =', I1)\n",
    "\n",
    "# define variables and calculate value of integral for N = 20 slices:\n",
    "\n",
    "N2 = 20 # number of slices for the second iteration\n",
    "a2 = 0.0\n",
    "b2 = 2.0\n",
    "h2 = (b2-a2) / N2\n",
    "\n",
    "s2 = 0.5*f(a2) + 0.5*f(b2)\n",
    "\n",
    "for i in range(1, N2):\n",
    "    s2 += f(a2 + i * h2)\n",
    "    \n",
    "I2 = s2*h2 # value of integral for N = 20 slices\n",
    "\n",
    "print('Value of integral after N = 20 slices =', I2)\n",
    "\n",
    "# calculate estimate of error:\n",
    "\n",
    "one_third = 1./3.\n",
    "\n",
    "error = one_third * (I2 - I1)\n",
    "\n",
    "print('Estimate of the error =', abs(error))\n",
    "\n",
    "print('I1 - I2 =', I1-I2)\n",
    "\n",
    "print(I2+error, I2-(I1-I2))"
   ]
  },
  {
   "cell_type": "markdown",
   "metadata": {},
   "source": [
    "---"
   ]
  },
  {
   "cell_type": "markdown",
   "metadata": {},
   "source": [
    "4. Newman 5.7: Consider the integral: $$I = \\int_{0}^{1} sin^2 \\sqrt{100x} dx $$ <br>\n",
    "<br>\n",
    "$a)$ Write a program that uses the adaptive trapezoidal rule method of Section 5.3 and Eq. (5.34) to calculate the value of this integral to an approximate accuracy of $\\epsilon = 10^-6$ (i.e., correct to six digits after the decimal point). Start with one single integration slice and work up from there to two, four, eight, and so forth. Have your program print out the number of slices, its estimate of the integral, and its estimate of the error on the integral, for each value of the number of slices $N$, until the target accuracy is reached. (Hint: You should find the result is around $I = 0.45$.) <br>\n",
    "Equation 5.34: $$ I_i = \\frac{1}{2}I_{i-1} + h_i \\sum_{k odd} f(a+kh_i) $$.\n",
    "<br>\n",
    "$b)$ Now modify your program to evaluate the same integral using the Romberg integration technique described in this section. Have your program print out a triangular table of values, as on page 161, of all the Romberg estimates of the integral. Calculate the error on your estimates using Eq. (5.49) and again continue the calculation until you reach an accurace of $\\epsilon = 10^-6$. You should find that the Romberg method reaches the required accuracy considerable faster than the trapezoidal rule alone."
   ]
  },
  {
   "cell_type": "code",
   "execution_count": 5,
   "metadata": {},
   "outputs": [
    {
     "name": "stdout",
     "output_type": "stream",
     "text": [
      "I = 0.3252319078064746\n",
      "Number of slices = 2 \n",
      "\n",
      "I = 0.5122828507233315\n",
      "Number of slices = 4 \n",
      "\n",
      "I = 0.4029974484782483\n",
      "Number of slices = 8 \n",
      "\n",
      "I = 0.43010336929474696\n",
      "Number of slices = 16 \n",
      "\n",
      "I = 0.4484146657874699\n",
      "Number of slices = 32 \n",
      "\n",
      "I = 0.4539129312153758\n",
      "Number of slices = 64 \n",
      "\n",
      "I = 0.45534850437280205\n",
      "Number of slices = 128 \n",
      "\n",
      "I = 0.455711266453241\n",
      "Number of slices = 256 \n",
      "\n",
      "I = 0.455802199651664\n",
      "Number of slices = 512 \n",
      "\n",
      "I = 0.45582494813241997\n",
      "Number of slices = 1024 \n",
      "\n",
      "I = 0.4558306362016466\n",
      "Number of slices = 2048 \n",
      "\n",
      "I = 0.455832058278271\n",
      "Number of slices at desired accuracy = 4096 \n",
      "\n",
      "Error for the adaptive trapezoidal rule =  4.7402554146739695e-07\n",
      "Value of I at desired accuracy = 0.455832058278271\n"
     ]
    }
   ],
   "source": [
    "# 4: Newman 5.7 --- a) adaptive trapezoidal rule\n",
    "\n",
    "# necessary imports:\n",
    "\n",
    "import numpy as np\n",
    "\n",
    "# define one third:\n",
    "\n",
    "one_third = 1./3.\n",
    "\n",
    "# define function that is the integrand:\n",
    "\n",
    "def f(x):\n",
    "    return (np.sin(np.sqrt(100*x)))**2\n",
    "\n",
    "# define function that is the adaptive trapezoidal rule:\n",
    "\n",
    "def atr(f, a, b, N, I_minus_one, error): # atr for adaptive trapezoidal rule\n",
    "    \n",
    "    N = 2*N\n",
    "    h = (b - a) / N\n",
    "    I = (0.5 * I_minus_one) + h * sum(list(map(f, np.arange(a + h, b, 2*h)))) # equation 5.34\n",
    "    print('I =', I)\n",
    "    \n",
    "    # now define the error for the atr, epsilon:\n",
    "    \n",
    "    epsilon = one_third * (I - I_minus_one)\n",
    "    \n",
    "    for i in range(N):\n",
    "        if (abs(epsilon) < error):\n",
    "            print('Number of slices at desired accuracy =', N, '\\n')\n",
    "            print('Error for the adaptive trapezoidal rule = ', epsilon)\n",
    "            return I\n",
    "        else:\n",
    "            print('Number of slices =', N, '\\n')\n",
    "            return atr(f, a, b, N, I, error)\n",
    "        \n",
    "# now set our values in the function and calculate value of I:\n",
    "        \n",
    "a = 0\n",
    "b = 1\n",
    "N = 1\n",
    "I_minus_one = 0.5*(f(1)-f(0))\n",
    "error = 1e-6\n",
    "\n",
    "print('Value of I at desired accuracy =', atr(f, a, b, N, I_minus_one, error))"
   ]
  },
  {
   "cell_type": "code",
   "execution_count": 6,
   "metadata": {},
   "outputs": [
    {
     "name": "stdout",
     "output_type": "stream",
     "text": [
      "The estimate of integral = 0.4558324944613789 at N = 7 slices \n",
      "\n",
      "Romberg Table: \n",
      "\n",
      "[0.14797948454665205]\n",
      "[0.3252319078064746, 0.38431604889308213]\n",
      "[0.5122828507233315, 0.5746331650289505, 0.5873209727713417]\n",
      "[0.40299744847824825, 0.3665689810632205, 0.35269803546550516, 0.34897386185747603]\n",
      "[0.43010336929474696, 0.4391386762335799, 0.44397665591160385, 0.4454255229028118, 0.4458037647108327]\n",
      "[0.4484146657874698, 0.4545184312850441, 0.45554374828847505, 0.45572735292937777, 0.4557677522628153, 0.4557774922310968]\n",
      "[0.45391293121537596, 0.4557456863580113, 0.4558275033628758, 0.45583200741167584, 0.4558324178214103, 0.45583248103310003, 0.4558324944613789]\n"
     ]
    }
   ],
   "source": [
    "# 4: Newman 5.7 --- b) romberg integration\n",
    "\n",
    "# constants:\n",
    "\n",
    "m = 1\n",
    "a = 0\n",
    "b = 1\n",
    "epsilon = 1e-6\n",
    "\n",
    "# calculate first two estimates of integral using regular trapezoidal rule:\n",
    "\n",
    "def tr(N, a, b): # define function that is trapezoidal rule:\n",
    "\n",
    "    h = (b-a) / N \n",
    "\n",
    "    s = 0.5*f(a) + 0.5*f(b)\n",
    "    \n",
    "    for k in range(1,N):\n",
    "        s += f(a+k*h)\n",
    "    \n",
    "    return h*s\n",
    "\n",
    "# create an empty array to append values into:\n",
    "\n",
    "vals = [[]]\n",
    "\n",
    "N = 1 # first estimate\n",
    "R11 = tr(N, a, b) # I1, R11 name from textbook\n",
    "vals[0].append(R11)\n",
    "\n",
    "N = N * 2 # second estimate\n",
    "R21 = tr(N, a, b) #I2, R21 name from textbook\n",
    "vals.append([R21])\n",
    "\n",
    "def error(R_im, R_i_minus_1_m, m):\n",
    "    return (1 / (4**m -1)) * (R_im - R_i_minus_1_m)\n",
    "\n",
    "R21_error = error(R21, R11, 1)\n",
    "if abs(R21_error) < epsilon: \n",
    "    for i in result:\n",
    "        print(i)\n",
    "\n",
    "# now calculate more accurate estimate (called R22) using Eq. 5.51:\n",
    "\n",
    "def romberg(R_im, R_i_m_minus_one, m):\n",
    "    \n",
    "    return R_im + (1 / ((4**m) - 1)) * (R_im - R_i_m_minus_one)\n",
    "\n",
    "R22 = romberg(R21, R11, 1)\n",
    "vals[1].append(R22)\n",
    "\n",
    "# now keep calculating values until we reach desire accuracy:\n",
    "\n",
    "for i in range(2, 10): # we have already calculate i = 2 R_im values, so we can start at i = 3\n",
    "    N = N * 2\n",
    "    I_vals = tr(N, a, b) # the I3, I4... etc. values\n",
    "    vals.append([I_vals])\n",
    "    \n",
    "    for j in range(1, i+1):\n",
    "        currenterror = error(vals[i][j-1], vals[i-1][j-1], j)\n",
    "        nextromberg = romberg(vals[i][j-1], vals[i-1][j-1], j)\n",
    "        vals[i].append(nextromberg)\n",
    "        \n",
    "    if abs(currenterror) < epsilon:\n",
    "        print('The estimate of integral =', vals[-1][-1], 'at N =', j+1, 'slices', '\\n')\n",
    "        print(\"Romberg Table:\", '\\n')\n",
    "        \n",
    "        for i in vals:\n",
    "            print(i)\n",
    "        break"
   ]
  },
  {
   "cell_type": "markdown",
   "metadata": {},
   "source": [
    "---"
   ]
  },
  {
   "cell_type": "markdown",
   "metadata": {},
   "source": [
    "5. Newman 5.8: Write a program that uses the adaptive Simpson's rule method of Section 5.3 and Eqs. (5.35) to (5.39) to calculate the same integral as in Exercise 5.7, again to an approximate accuracy of $\\epsilon = 10^-6$. Starting this time with two integration slices, work up from there to four, eight, and so forth, printing out the results at each step until the required accuracy is reached. You should find you reach that accuracy for a significantly smaller number of slices than with the trapezoidal rule calculation in part (a) of Exercise 5.7, but a somewhat larger number than with the Romberg integration of part (b)."
   ]
  },
  {
   "cell_type": "code",
   "execution_count": 7,
   "metadata": {},
   "outputs": [
    {
     "name": "stdout",
     "output_type": "stream",
     "text": [
      "Estimation of Integral = 0.38431604889308213 where the number of slices, N = 2\n",
      "Estimation of Integral = 0.44340018997968966 where the number of slices, N = 4\n",
      "Estimation of Integral = 0.15476137299918452 where the number of slices, N = 8\n",
      "Estimation of Integral = 0.686202362894979 where the number of slices, N = 16\n",
      "Estimation of Integral = 0.5404083778225377 where the number of slices, N = 32\n",
      "Estimation of Integral = 0.18679239283380827 where the number of slices, N = 64\n",
      "Estimation of Integral = 0.43744224993603575 where the number of slices, N = 128\n",
      "Estimation of Integral = 0.7735797867597095 where the number of slices, N = 256\n",
      "Estimation of Integral = 0.853959620885744 where the number of slices, N = 512\n",
      "Estimation of Integral = 0.7349815243768436 where the number of slices, N = 1024\n",
      "Estimation of Integral = 0.5496583851822396 where the number of slices, N = 2048\n",
      "Estimation of Integral = 0.37720190275397114 where the number of slices, N = 4096\n",
      "Estimation of Integral = 0.2446739146468187 where the number of slices, N = 8192\n",
      "Estimation of Integral = 0.15262012277055823 where the number of slices, N = 16384\n",
      "Estimation of Integral = 0.09252432390325 where the number of slices, N = 32768\n",
      "Estimation of Integral = 0.054892491835304334 where the number of slices, N = 65536\n",
      "Estimation of Integral = 0.03201957105678589 where the number of slices, N = 131072\n",
      "Estimation of Integral = 0.018424622088676994 where the number of slices, N = 262144\n",
      "Estimation of Integral = 0.010483576689769868 where the number of slices, N = 524288\n"
     ]
    },
    {
     "ename": "KeyboardInterrupt",
     "evalue": "",
     "output_type": "error",
     "traceback": [
      "\u001b[0;31m---------------------------------------------------------------------------\u001b[0m",
      "\u001b[0;31mKeyboardInterrupt\u001b[0m                         Traceback (most recent call last)",
      "\u001b[0;32m<ipython-input-7-048c9d026a72>\u001b[0m in \u001b[0;36m<module>\u001b[0;34m\u001b[0m\n\u001b[1;32m     60\u001b[0m \u001b[0;34m\u001b[0m\u001b[0m\n\u001b[1;32m     61\u001b[0m         \u001b[0mS_vals\u001b[0m\u001b[0;34m[\u001b[0m\u001b[0mk\u001b[0m\u001b[0;34m]\u001b[0m \u001b[0;34m=\u001b[0m \u001b[0mS_vals\u001b[0m\u001b[0;34m[\u001b[0m\u001b[0mk\u001b[0m \u001b[0;34m-\u001b[0m \u001b[0;36m1\u001b[0m\u001b[0;34m]\u001b[0m \u001b[0;34m+\u001b[0m \u001b[0mT_vals\u001b[0m\u001b[0;34m[\u001b[0m\u001b[0mk\u001b[0m \u001b[0;34m-\u001b[0m \u001b[0;36m1\u001b[0m\u001b[0;34m]\u001b[0m \u001b[0;31m# Eq. 5.38\u001b[0m\u001b[0;34m\u001b[0m\u001b[0;34m\u001b[0m\u001b[0m\n\u001b[0;32m---> 62\u001b[0;31m         \u001b[0mT_vals\u001b[0m\u001b[0;34m[\u001b[0m\u001b[0mk\u001b[0m\u001b[0;34m]\u001b[0m \u001b[0;34m=\u001b[0m \u001b[0;34m(\u001b[0m\u001b[0mtwo_thirds\u001b[0m\u001b[0;34m)\u001b[0m \u001b[0;34m*\u001b[0m \u001b[0modd_sum\u001b[0m\u001b[0;34m(\u001b[0m\u001b[0mN\u001b[0m\u001b[0;34m,\u001b[0m \u001b[0ma\u001b[0m\u001b[0;34m,\u001b[0m \u001b[0mintegrand\u001b[0m\u001b[0;34m,\u001b[0m \u001b[0mh\u001b[0m\u001b[0;34m)\u001b[0m\u001b[0;34m\u001b[0m\u001b[0;34m\u001b[0m\u001b[0m\n\u001b[0m\u001b[1;32m     63\u001b[0m         \u001b[0mI_vals\u001b[0m\u001b[0;34m[\u001b[0m\u001b[0mk\u001b[0m\u001b[0;34m]\u001b[0m \u001b[0;34m=\u001b[0m \u001b[0mh\u001b[0m \u001b[0;34m*\u001b[0m \u001b[0;34m(\u001b[0m\u001b[0mS_vals\u001b[0m\u001b[0;34m[\u001b[0m\u001b[0mk\u001b[0m\u001b[0;34m]\u001b[0m \u001b[0;34m+\u001b[0m \u001b[0;36m2\u001b[0m \u001b[0;34m*\u001b[0m \u001b[0mT_vals\u001b[0m\u001b[0;34m[\u001b[0m\u001b[0mk\u001b[0m\u001b[0;34m]\u001b[0m\u001b[0;34m)\u001b[0m\u001b[0;34m\u001b[0m\u001b[0;34m\u001b[0m\u001b[0m\n\u001b[1;32m     64\u001b[0m \u001b[0;34m\u001b[0m\u001b[0m\n",
      "\u001b[0;32m<ipython-input-7-048c9d026a72>\u001b[0m in \u001b[0;36modd_sum\u001b[0;34m(N, a, f, h)\u001b[0m\n\u001b[1;32m     28\u001b[0m     \u001b[0mos\u001b[0m \u001b[0;34m=\u001b[0m \u001b[0;36m0.0\u001b[0m \u001b[0;31m# initialize odd sum to zero\u001b[0m\u001b[0;34m\u001b[0m\u001b[0;34m\u001b[0m\u001b[0m\n\u001b[1;32m     29\u001b[0m     \u001b[0;32mfor\u001b[0m \u001b[0mi\u001b[0m \u001b[0;32min\u001b[0m \u001b[0mrange\u001b[0m\u001b[0;34m(\u001b[0m\u001b[0;36m1\u001b[0m\u001b[0;34m,\u001b[0m \u001b[0mN\u001b[0m\u001b[0;34m,\u001b[0m \u001b[0;36m2\u001b[0m\u001b[0;34m)\u001b[0m\u001b[0;34m:\u001b[0m\u001b[0;34m\u001b[0m\u001b[0;34m\u001b[0m\u001b[0m\n\u001b[0;32m---> 30\u001b[0;31m         \u001b[0mos\u001b[0m \u001b[0;34m+=\u001b[0m \u001b[0mf\u001b[0m\u001b[0;34m(\u001b[0m\u001b[0ma\u001b[0m \u001b[0;34m+\u001b[0m \u001b[0mk\u001b[0m \u001b[0;34m*\u001b[0m \u001b[0mh\u001b[0m\u001b[0;34m)\u001b[0m\u001b[0;34m\u001b[0m\u001b[0;34m\u001b[0m\u001b[0m\n\u001b[0m\u001b[1;32m     31\u001b[0m     \u001b[0;32mreturn\u001b[0m \u001b[0mos\u001b[0m\u001b[0;34m\u001b[0m\u001b[0;34m\u001b[0m\u001b[0m\n\u001b[1;32m     32\u001b[0m \u001b[0;34m\u001b[0m\u001b[0m\n",
      "\u001b[0;32m<ipython-input-7-048c9d026a72>\u001b[0m in \u001b[0;36mintegrand\u001b[0;34m(x)\u001b[0m\n\u001b[1;32m      8\u001b[0m \u001b[0;34m\u001b[0m\u001b[0m\n\u001b[1;32m      9\u001b[0m \u001b[0;32mdef\u001b[0m \u001b[0mintegrand\u001b[0m\u001b[0;34m(\u001b[0m\u001b[0mx\u001b[0m\u001b[0;34m)\u001b[0m\u001b[0;34m:\u001b[0m\u001b[0;34m\u001b[0m\u001b[0;34m\u001b[0m\u001b[0m\n\u001b[0;32m---> 10\u001b[0;31m     \u001b[0;32mreturn\u001b[0m \u001b[0;34m(\u001b[0m\u001b[0mnp\u001b[0m\u001b[0;34m.\u001b[0m\u001b[0msin\u001b[0m\u001b[0;34m(\u001b[0m\u001b[0mnp\u001b[0m\u001b[0;34m.\u001b[0m\u001b[0msqrt\u001b[0m\u001b[0;34m(\u001b[0m\u001b[0;36m100\u001b[0m\u001b[0;34m*\u001b[0m\u001b[0mx\u001b[0m\u001b[0;34m)\u001b[0m\u001b[0;34m)\u001b[0m\u001b[0;34m)\u001b[0m\u001b[0;34m**\u001b[0m\u001b[0;36m2\u001b[0m\u001b[0;34m\u001b[0m\u001b[0;34m\u001b[0m\u001b[0m\n\u001b[0m\u001b[1;32m     11\u001b[0m \u001b[0;34m\u001b[0m\u001b[0m\n\u001b[1;32m     12\u001b[0m \u001b[0;31m# necessary variables:\u001b[0m\u001b[0;34m\u001b[0m\u001b[0;34m\u001b[0m\u001b[0;34m\u001b[0m\u001b[0m\n",
      "\u001b[0;31mKeyboardInterrupt\u001b[0m: "
     ]
    }
   ],
   "source": [
    "# 5: Newman 5.8\n",
    "\n",
    "# necessary imports:\n",
    "\n",
    "import numpy as np\n",
    "\n",
    "# define function that is the integrand:\n",
    "\n",
    "def integrand(x):\n",
    "    return (np.sin(np.sqrt(100*x)))**2\n",
    "\n",
    "# necessary variables:\n",
    "\n",
    "one_third = 1./3\n",
    "two_thirds = 2./3.\n",
    "\n",
    "N = 1\n",
    "a = 0\n",
    "b = 1\n",
    "h = (b - a) / N\n",
    "k = 0\n",
    "epsilon = 1e-6 # target accuracy\n",
    "error = 1.0\n",
    "\n",
    "# now calculate sums S1 and T1 (pg. 158) --- need functions to calculate even/odd summations:\n",
    "\n",
    "def odd_sum(N, a, f, h):\n",
    "    os = 0.0 # initialize odd sum to zero\n",
    "    for i in range(1, N, 2):\n",
    "        os += f(a + k * h)\n",
    "    return os\n",
    "\n",
    "def even_sum(N, a, f, h):\n",
    "    es = 0.0 # initialize even sum to zero\n",
    "    for i in range(2, N-1, 2):\n",
    "        es += f(a + k * h)\n",
    "    return es\n",
    "\n",
    "# create empty sets to put values into:\n",
    "\n",
    "S_vals = np.empty(100)\n",
    "T_vals = np.empty(100)\n",
    "I_vals = np.empty(100)\n",
    "\n",
    "# calculate S1, T1, and I1 (pg 158):\n",
    "\n",
    "S_vals[0] = (one_third) * (integrand(a) + integrand(b) + 2 * even_sum(N, a, integrand, h))\n",
    "T_vals[0] = (two_thirds) * odd_sum(N, a, integrand, h)\n",
    "I_vals[0] = h * (S_vals[0] + 2 * T_vals[0])\n",
    "\n",
    "# loop to calculate until we reach desired accuracy:\n",
    "\n",
    "niter = 100\n",
    "\n",
    "for k in range(niter):\n",
    "    \n",
    "        N = N * 2\n",
    "        h = (b - a) / N # have to recalculate h here for each new N\n",
    "        k += 1\n",
    "    \n",
    "        S_vals[k] = S_vals[k - 1] + T_vals[k - 1] # Eq. 5.38\n",
    "        T_vals[k] = (two_thirds) * odd_sum(N, a, integrand, h)\n",
    "        I_vals[k] = h * (S_vals[k] + 2 * T_vals[k])\n",
    "    \n",
    "        error = np.abs(I_vals[k] - I_vals[k - 1]) / 15\n",
    "        \n",
    "        if error > epsilon:\n",
    "    \n",
    "            print('Estimation of Integral =', I_vals[k], 'where the number of slices, N =', N)\n",
    "\n",
    "### Okay, I know something is obviously wrong as none of the estimated values of the integral below are even close\n",
    "### to what I should get (and my loop won't stop). I've been stuck on this problem for too many days, so I think \n",
    "### it's come to the point to give up on it momentarily and have someone else see if they can find where it's wrong \n",
    "### (lucky you!)."
   ]
  },
  {
   "cell_type": "markdown",
   "metadata": {},
   "source": [
    "---\n",
    "\n",
    "6. Newman 5.9: Heat capacity of a solid <br>\n",
    "$a)$ Write a Python function `cv(T)` that calculates $C_v$ for a given value of the temperature, for a sample consisting of 1000 cubic centimeters of solid aluminum, which has a number density of $\\rho = 6.022 \\times 10^{28} m^{-3}$ and a Debye temperature of $\\theta_D = 428 K$. Use Gaussian quadrature to evaluate the integral, with $N = 50$ sample points. <br>\n",
    "<br>\n",
    "$b)$ Use your function to make a graph of the heat capacity as a function of temperature from $T = 5K$ to $T = 500K$."
   ]
  },
  {
   "cell_type": "code",
   "execution_count": 8,
   "metadata": {},
   "outputs": [
    {
     "data": {
      "image/png": "[encoded data removed]",
      "text/plain": [
       "<Figure size 432x288 with 1 Axes>"
      ]
     },
     "metadata": {
      "needs_background": "light"
     },
     "output_type": "display_data"
    }
   ],
   "source": [
    "# 6: Newman 5.9 --- a) & b)\n",
    "\n",
    "# necessary imports:\n",
    "\n",
    "import numpy as np\n",
    "from gaussxw import gaussxw\n",
    "import matplotlib.pyplot as plt\n",
    "\n",
    "# variable definitions:\n",
    "\n",
    "T = np.arange(5, 500) # given value of T\n",
    "\n",
    "V = 1e-3 # m^3 --- 1000 cm^3\n",
    "rho = 6.022e28 # m^-3\n",
    "theta = 428 # K\n",
    "kb = 1.38064852e-23 # boltzmann constant, has blah units\n",
    "\n",
    "N = 50 # number of sample points\n",
    "\n",
    "# define function that is the integrand:\n",
    "\n",
    "def f(x):\n",
    "    return (x**4 * np.exp(x)) / (np.exp(x) - 1)**2\n",
    "\n",
    "# define our cv(T) function:\n",
    "\n",
    "def cv(T):\n",
    "    \n",
    "    # use gaussian quadrature to evaluate integral:\n",
    "    \n",
    "    a = 0.0\n",
    "    b = theta / T\n",
    "    \n",
    "    x, w = gaussxw(N)\n",
    "    \n",
    "    xp = 0.5*(b-a)*x + 0.5*(b+a)\n",
    "    wp = 0.5*(b-a)*w\n",
    "\n",
    "    Int = 0.0 # intialize integral to 0\n",
    "    \n",
    "    for i in range(N):\n",
    "        Int += wp[i] * f(xp[i])\n",
    "    \n",
    "    \n",
    "    return 9*V*rho*kb* (T / theta)**3 * Int\n",
    "\n",
    "C_vals = [] # create empty set to append cv values to\n",
    "\n",
    "# calculate heat capacity values for given T:\n",
    "\n",
    "for i in T:\n",
    "    c2 = cv(i)\n",
    "    \n",
    "    C_vals.append(c2)\n",
    "    \n",
    "# plot heat capacity vs temperature:\n",
    "\n",
    "plt.plot(T, C_vals, '-', color='lightseagreen')\n",
    "plt.title('Heat Capacity as a Function of Temperature')\n",
    "plt.xlabel('Temperature / [K]')\n",
    "plt.ylabel('Heat Capacity / [units]')\n",
    "plt.grid()\n",
    "plt.show()"
   ]
  },
  {
   "cell_type": "markdown",
   "metadata": {},
   "source": [
    "---"
   ]
  },
  {
   "cell_type": "markdown",
   "metadata": {},
   "source": [
    "7. Newman 5.10: Period of an anharmonic oscillator <br>\n",
    "$a)$ Derivation -- on paper! <br>\n",
    "<br>\n",
    "$b)$ Suppose the potential is $V(x) = x^4$ and the mass of the particle is $m = 1$. Write a Python function that calculates the period of the oscillator for given amplitude $a$ using Gaussian quadrature with $N = 20$ points, then use your function to make a graph of the period for amplitudes ranging from $a = 0$ to $a = 2$. <br>\n",
    "<br>\n",
    "$c)$ You should find that the oscillator get faster as the amplitude increases, even though the particle has further to travel for larger amplitude. And you should find that the period diverges as the amplitude goes to zero. How do you explain these results?"
   ]
  },
  {
   "cell_type": "code",
   "execution_count": 10,
   "metadata": {},
   "outputs": [
    {
     "name": "stderr",
     "output_type": "stream",
     "text": [
      "/Users/michaelaallen/opt/anaconda3/lib/python3.7/site-packages/ipykernel_launcher.py:22: RuntimeWarning: divide by zero encountered in double_scalars\n",
      "/Users/michaelaallen/opt/anaconda3/lib/python3.7/site-packages/ipykernel_launcher.py:29: RuntimeWarning: invalid value encountered in double_scalars\n"
     ]
    },
    {
     "data": {
      "image/png": "[encoded data removed]",
      "text/plain": [
       "<Figure size 432x288 with 1 Axes>"
      ]
     },
     "metadata": {
      "needs_background": "light"
     },
     "output_type": "display_data"
    }
   ],
   "source": [
    "# 7: Newman 5.10 --- b)\n",
    "\n",
    "# necessary imports:\n",
    "\n",
    "import numpy as np\n",
    "from gaussxw import gaussxwab \n",
    "import matplotlib.pyplot as plt\n",
    "\n",
    "# define variables:\n",
    "\n",
    "m = 1 # [] mass of particle\n",
    "\n",
    "N = 20 # number of points\n",
    "    \n",
    "# define period function with integrand function nested:\n",
    "\n",
    "def T(a):\n",
    "    def f(x):\n",
    "        def v(n):                            # we have to nest the defined integrand function like this since there is \n",
    "            return n**4                      # a v(a) in the integrand function\n",
    "        \n",
    "        return 1. / np.sqrt(v(a) - v(x))\n",
    "    \n",
    "    x, w = gaussxwab(N, 0, a)                # using gaussxwab instead of gaussxw to avoid confusion with 'a'\n",
    "    \n",
    "    Int = 0.0 # initialize integral to 0.0\n",
    "    \n",
    "    for i in range(N):\n",
    "        Int += w[i] * f(x[i])\n",
    "    \n",
    "    return np.sqrt(8*m) * Int\n",
    "\n",
    "# now use this function to calculate T_vals:\n",
    "\n",
    "a = np.linspace(0, 2) # given range of amplitudes\n",
    "\n",
    "T_vals = [] # empty set to append T values to\n",
    "\n",
    "for i in a:\n",
    "    t2 = T(i)\n",
    "    \n",
    "    T_vals.append(t2)\n",
    "    \n",
    "# plot period vs amplitude:\n",
    "\n",
    "plt.plot(a, T_vals, '-', color='indigo')\n",
    "plt.title('Period vs Amplitude for an Anharmonic Oscillator')\n",
    "plt.xlabel('Amplitude / []')\n",
    "plt.ylabel('Period / []')\n",
    "plt.grid()\n",
    "plt.show()"
   ]
  },
  {
   "cell_type": "markdown",
   "metadata": {},
   "source": [
    "$c)$ The plot does indeed show that the period decreases as the amplitude increases. This can be explained because of \n",
    "the potential function, $V(x) = x^4$. As the amplitude increases, the period is going to drop off very quickly.\n",
    "\n",
    "---"
   ]
  },
  {
   "cell_type": "markdown",
   "metadata": {},
   "source": [
    "8. Newman 5.12: The Stefan-Boltzmann Constant <br>\n",
    "<br>\n",
    "$a)$ on paper! <br>\n",
    "<br>\n",
    "$b)$ Write a program to evaluate the integral in this expression. Explain what method you used, and how accurate you think your answer is. <br>\n",
    "<br>\n",
    "$c)$ Even before Planck gave his theory of thermal radiation around the turn of the 20th century, it was known that the total evergy $W$ given off by a black body per unit area per second followed Stefan's law: $W = \\sigma T^4$, where $\\sigma$ is the Stefan-Boltzmann constant. Use your value for the integral above to compute a value for the Stefan-Boltzmann constant (in SI units) to three significant figures. Check your result against the known value, which you can find in books or on-line. You should get good agreement."
   ]
  },
  {
   "cell_type": "code",
   "execution_count": 11,
   "metadata": {},
   "outputs": [
    {
     "name": "stdout",
     "output_type": "stream",
     "text": [
      "Value of Integral = 6.493939402266831\n"
     ]
    },
    {
     "name": "stderr",
     "output_type": "stream",
     "text": [
      "/Users/michaelaallen/opt/anaconda3/lib/python3.7/site-packages/ipykernel_launcher.py:11: RuntimeWarning: overflow encountered in exp\n",
      "  # This is added back by InteractiveShellApp.init_path()\n"
     ]
    }
   ],
   "source": [
    "# 8: Newman 5.12 --- b)\n",
    "\n",
    "# necessary imports:\n",
    "\n",
    "import numpy as np\n",
    "from gaussxw import gaussxwab\n",
    "\n",
    "# define  a function that is the integrand --- note that x = z / z - 1 because of bounds on integral:\n",
    "\n",
    "def f(z):\n",
    "    return (z / (1 - z))**3 / (np.exp(z / (1 - z)) - 1) * (1 / (1 - z)**2)\n",
    "\n",
    "# I am going to use Gaussian Quadrature because this function is smooth, and GQ will be an easy, short code:\n",
    "\n",
    "N = 100 # number of steps\n",
    "\n",
    "x, w = gaussxwab(N, 0, 1)\n",
    "Int = 0.0 # initialize integral to zero\n",
    "\n",
    "for i in range(N):\n",
    "    Int += w[i] * f(x[i])\n",
    "    \n",
    "print('Value of Integral =', Int)"
   ]
  },
  {
   "cell_type": "code",
   "execution_count": 12,
   "metadata": {},
   "outputs": [
    {
     "name": "stdout",
     "output_type": "stream",
     "text": [
      "Enter the temperature in Kelvin: 987\n",
      "My value of the Stefan-Boltzmann Constant = 5.89e-11\n",
      "Percent Error between my value and the real value = 0.104 %\n"
     ]
    }
   ],
   "source": [
    "# 8: Newman 5.12 --- c)\n",
    "\n",
    "# define constants:\n",
    "\n",
    "kb = 1.38064852e-23 # boltzmann constant [units]\n",
    "pi = np.pi\n",
    "c = 3e8 # speed of light [m/s]\n",
    "h = 6.62607015e-34 # h [units]\n",
    "h_bar = h / 2*pi\n",
    " \n",
    "T = eval(input(\"Enter the temperature in Kelvin: \")) # lets the user input the temp they need\n",
    "\n",
    "# use these constants and the integral value from part b to calculate W:\n",
    "\n",
    "W = ((kb**4 * T**4) / (4 * pi**2 * c**2 * h_bar**3)) * Int\n",
    "\n",
    "# use W and T to calculate sigma, stefan-boltzmann constant:\n",
    "\n",
    "sigma = W / T**4\n",
    "\n",
    "# define real value of sigma and calculate percent error between real and my value:\n",
    "\n",
    "real_sigma = 5.670e-8 # [units]\n",
    "\n",
    "percent_error = abs((real_sigma - sigma / real_sigma)) * 100\n",
    "\n",
    "print('My value of the Stefan-Boltzmann Constant =', f'{sigma:.3}')  \n",
    "print('Percent Error between my value and the real value =', f'{percent_error:.3}', '%')"
   ]
  },
  {
   "cell_type": "markdown",
   "metadata": {},
   "source": [
    " ---"
   ]
  },
  {
   "cell_type": "markdown",
   "metadata": {},
   "source": [
    "9. Newman 5.14: Gravitational pull of a uniform sheet <br>\n",
    "$a)$ on paper! <br>\n",
    "<br>\n",
    "$b)$ Write a program to calculate and plot the force as a function of $z$ from $z = 0$ to $z = 10$m. For the double integral use (double) Gaussian quadrature, as in Eq. (5.82), with 100 sample points along each axis. <br>\n",
    "<br>\n",
    "$c)$ You should see a smooth curve, except at very small values of $z$, where the force should drop off suddenly to zero. This drop is not a real effect, but an artifact of the way we have done the calculation. Explain briefly where this artifact comes from and suggest a strategy to remove it, or at least to decrease its size."
   ]
  },
  {
   "cell_type": "code",
   "execution_count": 14,
   "metadata": {},
   "outputs": [
    {
     "data": {
      "image/png": "[encoded data removed]",
      "text/plain": [
       "<Figure size 432x288 with 1 Axes>"
      ]
     },
     "metadata": {
      "needs_background": "light"
     },
     "output_type": "display_data"
    }
   ],
   "source": [
    "# 9: Newman 5.14 --- b)\n",
    "\n",
    "# necessary imports:\n",
    "\n",
    "import numpy as np\n",
    "from gaussxw import gaussxwab\n",
    "import matplotlib.pyplot as plt\n",
    "\n",
    "# define constants and variables:\n",
    "\n",
    "G = 6.674e-11 # gravitational constant [units]\n",
    "sigma = 100 # mass per unit area [units]\n",
    "\n",
    "N = 100 # number of sample points\n",
    "\n",
    "# define function that is the integrand:\n",
    "\n",
    "def f(x, y, z):\n",
    "     return 1 / (x**2 + y**2 + z**2) ** 3/2\n",
    "\n",
    "# define function to calculate Fz using double Gaussian quadrature:\n",
    "\n",
    "def z_force(z):\n",
    "    \n",
    "    x, w = gaussxwab(N, -5, 5) # -5 to 5 from plot in book\n",
    "    Int = 0.0 # initialize integral to zero\n",
    "    \n",
    "    for i in range(N):\n",
    "        for j in range(N):\n",
    "            Int += w[i] * w[j] * f(x[i], x[j], z)\n",
    "    \n",
    "    return G * sigma * z * Int\n",
    "\n",
    "# define range of z values and calculate our Fz values:\n",
    "\n",
    "z_vals = np.arange(0, 10, 0.01) # range of z values\n",
    "\n",
    "z_force_vals = [] # empty set to append Fz values to\n",
    "\n",
    "for i in z_vals:\n",
    "    Fz = z_force(i)\n",
    "    \n",
    "    z_force_vals.append(Fz)\n",
    "\n",
    "# plot the force as a function of z:    \n",
    "\n",
    "plt.plot(z_vals, z_force_vals, '.', color='darkolivegreen')\n",
    "plt.xlim(0, 1) # limit plot to better see the drop off around z = 0.1\n",
    "plt.title('Force as a Function of $z$')\n",
    "plt.xlabel('$z$')\n",
    "plt.ylabel('$F_z$')\n",
    "plt.grid()\n",
    "plt.show()"
   ]
  },
  {
   "cell_type": "markdown",
   "metadata": {},
   "source": [
    "$c)$ One way to diminish this artifact would be to include more points at very small $z$ (between 0.0 and 0.4). \n",
    "\n",
    "\n",
    "\n",
    "---"
   ]
  },
  {
   "cell_type": "code",
   "execution_count": null,
   "metadata": {},
   "outputs": [],
   "source": []
  }
 ],
 "metadata": {
  "kernelspec": {
   "display_name": "Python 3",
   "language": "python",
   "name": "python3"
  },
  "language_info": {
   "codemirror_mode": {
    "name": "ipython",
    "version": 3
   },
   "file_extension": ".py",
   "mimetype": "text/x-python",
   "name": "python",
   "nbconvert_exporter": "python",
   "pygments_lexer": "ipython3",
   "version": "3.7.4"
  }
 },
 "nbformat": 4,
 "nbformat_minor": 2
}
